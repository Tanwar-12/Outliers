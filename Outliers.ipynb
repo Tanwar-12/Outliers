{
  "cells": [
    {
      "cell_type": "markdown",
      "metadata": {
        "id": "Ljzdn3wEEl9B"
      },
      "source": [
        "## Outliers:-They are datapoints which are far away or different from the other datapoints\n",
        "## in the dataset.Outliers are extreme values that deviate from other observations on data , they may indicate a variability in a measurement, experimental errors or a novelty"
      ]
    },
    {
      "cell_type": "markdown",
      "metadata": {
        "id": "X6fSWWnkoC8m"
      },
      "source": [
        "![image.png](attachment:image.png)"
      ]
    },
    {
      "cell_type": "markdown",
      "metadata": {
        "id": "E7if6So0Lrzq"
      },
      "source": [
        "![image.png](attachment:image.png)"
      ]
    },
    {
      "cell_type": "markdown",
      "metadata": {
        "id": "EHkgnMxooC8n"
      },
      "source": [
        "#### Most common causes of outliers on a data set:\n",
        "* Data entry errors (human errors)\n",
        "* Measurement errors (instrument errors)\n",
        "* Experimental errors (data extraction or experiment planning/executing errors)\n",
        "* Data processing errors (data manipulation or data set unintended mutations)\n",
        "* Sampling errors (extracting or mixing data from wrong or various sources)\n",
        "* Natural (not an error, novelties in data)"
      ]
    },
    {
      "cell_type": "code",
      "execution_count": null,
      "metadata": {
        "id": "4j9zZypILrzu"
      },
      "outputs": [],
      "source": [
        "https://tribe.datamites.com/posts/outliers"
      ]
    },
    {
      "cell_type": "code",
      "execution_count": null,
      "metadata": {
        "id": "THVjKYk3El9V"
      },
      "outputs": [],
      "source": [
        "import pandas as pd\n"
      ]
    },
    {
      "cell_type": "code",
      "execution_count": null,
      "metadata": {
        "colab": {
          "base_uri": "https://localhost:8080/",
          "height": 204
        },
        "id": "8DGlFr1CEl9X",
        "outputId": "7525c3ac-7163-4ff0-b1b0-0b7eb723a61e"
      },
      "outputs": [
        {
          "data": {
            "text/html": [
              "<div>\n",
              "<style scoped>\n",
              "    .dataframe tbody tr th:only-of-type {\n",
              "        vertical-align: middle;\n",
              "    }\n",
              "\n",
              "    .dataframe tbody tr th {\n",
              "        vertical-align: top;\n",
              "    }\n",
              "\n",
              "    .dataframe thead th {\n",
              "        text-align: right;\n",
              "    }\n",
              "</style>\n",
              "<table border=\"1\" class=\"dataframe\">\n",
              "  <thead>\n",
              "    <tr style=\"text-align: right;\">\n",
              "      <th></th>\n",
              "      <th>place</th>\n",
              "      <th>built</th>\n",
              "      <th>sqft</th>\n",
              "      <th>sale</th>\n",
              "      <th>yearsOld</th>\n",
              "      <th>floor</th>\n",
              "      <th>totalFloor</th>\n",
              "      <th>bhk</th>\n",
              "      <th>price</th>\n",
              "    </tr>\n",
              "  </thead>\n",
              "  <tbody>\n",
              "    <tr>\n",
              "      <th>0</th>\n",
              "      <td>BTM Layout</td>\n",
              "      <td>Super built-up  Area</td>\n",
              "      <td>1450</td>\n",
              "      <td>Resale</td>\n",
              "      <td>5</td>\n",
              "      <td>1</td>\n",
              "      <td>4</td>\n",
              "      <td>1</td>\n",
              "      <td>6300000</td>\n",
              "    </tr>\n",
              "    <tr>\n",
              "      <th>1</th>\n",
              "      <td>Yelahanka</td>\n",
              "      <td>Super built-up  Area</td>\n",
              "      <td>2190</td>\n",
              "      <td>Resale</td>\n",
              "      <td>5</td>\n",
              "      <td>3</td>\n",
              "      <td>5</td>\n",
              "      <td>3</td>\n",
              "      <td>11500000</td>\n",
              "    </tr>\n",
              "    <tr>\n",
              "      <th>2</th>\n",
              "      <td>Whitefield</td>\n",
              "      <td>Super built-up  Area</td>\n",
              "      <td>1019</td>\n",
              "      <td>Resale</td>\n",
              "      <td>1</td>\n",
              "      <td>2</td>\n",
              "      <td>5</td>\n",
              "      <td>2</td>\n",
              "      <td>3800000</td>\n",
              "    </tr>\n",
              "    <tr>\n",
              "      <th>3</th>\n",
              "      <td>Ambalipura</td>\n",
              "      <td>Super built-up  Area</td>\n",
              "      <td>1857</td>\n",
              "      <td>Resale</td>\n",
              "      <td>15</td>\n",
              "      <td>4</td>\n",
              "      <td>5</td>\n",
              "      <td>4</td>\n",
              "      <td>10500000</td>\n",
              "    </tr>\n",
              "    <tr>\n",
              "      <th>4</th>\n",
              "      <td>Yelahanka</td>\n",
              "      <td>Super built-up  Area</td>\n",
              "      <td>2190</td>\n",
              "      <td>Resale</td>\n",
              "      <td>5</td>\n",
              "      <td>3</td>\n",
              "      <td>5</td>\n",
              "      <td>3</td>\n",
              "      <td>11500000</td>\n",
              "    </tr>\n",
              "  </tbody>\n",
              "</table>\n",
              "</div>"
            ],
            "text/plain": [
              "        place                 built  sqft    sale  yearsOld  floor  \\\n",
              "0  BTM Layout  Super built-up  Area  1450  Resale         5      1   \n",
              "1   Yelahanka  Super built-up  Area  2190  Resale         5      3   \n",
              "2  Whitefield  Super built-up  Area  1019  Resale         1      2   \n",
              "3  Ambalipura  Super built-up  Area  1857  Resale        15      4   \n",
              "4   Yelahanka  Super built-up  Area  2190  Resale         5      3   \n",
              "\n",
              "   totalFloor  bhk     price  \n",
              "0           4    1   6300000  \n",
              "1           5    3  11500000  \n",
              "2           5    2   3800000  \n",
              "3           5    4  10500000  \n",
              "4           5    3  11500000  "
            ]
          },
          "execution_count": 2,
          "metadata": {},
          "output_type": "execute_result"
        }
      ],
      "source": [
        "df = pd.read_csv('hp_data.csv')\n",
        "df.head()"
      ]
    },
    {
      "cell_type": "code",
      "execution_count": null,
      "metadata": {
        "id": "4xqwkyeaEl9g"
      },
      "outputs": [],
      "source": [
        "df.describe()"
      ]
    },
    {
      "cell_type": "code",
      "execution_count": null,
      "metadata": {
        "id": "xu5FwJGvEl9i"
      },
      "outputs": [],
      "source": [
        "df.shape"
      ]
    },
    {
      "cell_type": "code",
      "execution_count": null,
      "metadata": {
        "id": "HWF-25GfEl9j"
      },
      "outputs": [],
      "source": [
        "df.price.max()"
      ]
    },
    {
      "cell_type": "code",
      "execution_count": null,
      "metadata": {
        "id": "qJjRCY6uEl9l"
      },
      "outputs": [],
      "source": [
        "df.price.min()"
      ]
    },
    {
      "cell_type": "markdown",
      "metadata": {
        "id": "4C_FzzsMrvZn"
      },
      "source": [
        "## Univariate Analysis"
      ]
    },
    {
      "cell_type": "code",
      "execution_count": null,
      "metadata": {
        "collapsed": true,
        "id": "llErWu_5Lrz8",
        "outputId": "679ea5d1-5b8e-4f3d-ef34-f0535c83bc72"
      },
      "outputs": [
        {
          "name": "stdout",
          "output_type": "stream",
          "text": [
            "Collecting sweetviz\n",
            "  Using cached sweetviz-2.1.3-py3-none-any.whl (15.1 MB)\n",
            "Requirement already satisfied: matplotlib>=3.1.3 in /Users/dms/opt/anaconda3/lib/python3.9/site-packages (from sweetviz) (3.4.3)\n",
            "Requirement already satisfied: jinja2>=2.11.1 in /Users/dms/opt/anaconda3/lib/python3.9/site-packages (from sweetviz) (2.11.3)\n",
            "Collecting importlib-resources>=1.2.0\n",
            "  Using cached importlib_resources-5.4.0-py3-none-any.whl (28 kB)\n",
            "Requirement already satisfied: tqdm>=4.43.0 in /Users/dms/opt/anaconda3/lib/python3.9/site-packages (from sweetviz) (4.62.3)\n",
            "Requirement already satisfied: scipy>=1.3.2 in /Users/dms/opt/anaconda3/lib/python3.9/site-packages (from sweetviz) (1.7.1)\n",
            "Requirement already satisfied: pandas!=1.0.0,!=1.0.1,!=1.0.2,>=0.25.3 in /Users/dms/opt/anaconda3/lib/python3.9/site-packages (from sweetviz) (1.3.4)\n",
            "Requirement already satisfied: numpy>=1.16.0 in /Users/dms/opt/anaconda3/lib/python3.9/site-packages (from sweetviz) (1.20.3)\n",
            "Requirement already satisfied: zipp>=3.1.0 in /Users/dms/opt/anaconda3/lib/python3.9/site-packages (from importlib-resources>=1.2.0->sweetviz) (3.6.0)\n",
            "Requirement already satisfied: MarkupSafe>=0.23 in /Users/dms/opt/anaconda3/lib/python3.9/site-packages (from jinja2>=2.11.1->sweetviz) (1.1.1)\n",
            "Requirement already satisfied: pillow>=6.2.0 in /Users/dms/opt/anaconda3/lib/python3.9/site-packages (from matplotlib>=3.1.3->sweetviz) (8.4.0)\n",
            "Requirement already satisfied: python-dateutil>=2.7 in /Users/dms/opt/anaconda3/lib/python3.9/site-packages (from matplotlib>=3.1.3->sweetviz) (2.8.2)\n",
            "Requirement already satisfied: cycler>=0.10 in /Users/dms/opt/anaconda3/lib/python3.9/site-packages (from matplotlib>=3.1.3->sweetviz) (0.10.0)\n",
            "Requirement already satisfied: pyparsing>=2.2.1 in /Users/dms/opt/anaconda3/lib/python3.9/site-packages (from matplotlib>=3.1.3->sweetviz) (3.0.4)\n",
            "Requirement already satisfied: kiwisolver>=1.0.1 in /Users/dms/opt/anaconda3/lib/python3.9/site-packages (from matplotlib>=3.1.3->sweetviz) (1.3.1)\n",
            "Requirement already satisfied: six in /Users/dms/opt/anaconda3/lib/python3.9/site-packages (from cycler>=0.10->matplotlib>=3.1.3->sweetviz) (1.16.0)\n",
            "Requirement already satisfied: pytz>=2017.3 in /Users/dms/opt/anaconda3/lib/python3.9/site-packages (from pandas!=1.0.0,!=1.0.1,!=1.0.2,>=0.25.3->sweetviz) (2021.3)\n",
            "Installing collected packages: importlib-resources, sweetviz\n",
            "Successfully installed importlib-resources-5.4.0 sweetviz-2.1.3\n"
          ]
        }
      ],
      "source": [
        "!pip install sweetviz"
      ]
    },
    {
      "cell_type": "code",
      "execution_count": null,
      "metadata": {
        "colab": {
          "referenced_widgets": [
            "3029b58167f74ef59f9ece593ce50b10",
            "c99e05a051f34df88282e39aff45c828"
          ]
        },
        "id": "_E-XI9e6rvZo",
        "outputId": "397f1959-acb2-4010-d102-7d030046013e"
      },
      "outputs": [
        {
          "data": {
            "application/vnd.jupyter.widget-view+json": {
              "model_id": "c99e05a051f34df88282e39aff45c828",
              "version_major": 2,
              "version_minor": 0
            },
            "text/plain": [
              "                                             |      | [  0%]   00:00 -> (? left)"
            ]
          },
          "metadata": {},
          "output_type": "display_data"
        },
        {
          "name": "stdout",
          "output_type": "stream",
          "text": [
            "Report SWEETVIZ_REPORT.html was generated! NOTEBOOK/COLAB USERS: the web browser MAY not pop up, regardless, the report IS saved in your notebook/colab files.\n"
          ]
        }
      ],
      "source": [
        "import sweetviz as sv\n",
        "my_report = sv.analyze(df)\n",
        "my_report.show_html()"
      ]
    },
    {
      "cell_type": "code",
      "execution_count": null,
      "metadata": {
        "id": "JijMdY3gLrz_"
      },
      "outputs": [],
      "source": [
        "# Steps to be followed\n",
        "1) Separate numerical and categorical data.\n",
        "2)Visualize the numerical features.(Use Box plot)\n",
        "3)Check the percentage of outliers.\n",
        "   1)Z score method--Numerical continous  variables which are normally distributed.\n",
        "    upper limit=3std and lower limit =-3std\n",
        "    2)IQR\n",
        "    \n",
        "    "
      ]
    },
    {
      "cell_type": "code",
      "execution_count": null,
      "metadata": {
        "id": "co75YIDqoC8t"
      },
      "outputs": [],
      "source": [
        "## import the plotting libraries\n",
        "import matplotlib.pyplot as plt\n",
        "import seaborn as sns"
      ]
    },
    {
      "cell_type": "code",
      "execution_count": null,
      "metadata": {
        "id": "0lSI6BLyoC8t",
        "outputId": "a89faac5-f606-4ec0-a08d-e76385bb6598"
      },
      "outputs": [
        {
          "name": "stderr",
          "output_type": "stream",
          "text": [
            "/Users/dms/opt/anaconda3/lib/python3.9/site-packages/seaborn/distributions.py:2619: FutureWarning: `distplot` is a deprecated function and will be removed in a future version. Please adapt your code to use either `displot` (a figure-level function with similar flexibility) or `histplot` (an axes-level function for histograms).\n",
            "  warnings.warn(msg, FutureWarning)\n"
          ]
        },
        {
          "data": {
            "text/plain": [
              "<AxesSubplot:xlabel='sqft', ylabel='Density'>"
            ]
          },
          "execution_count": 7,
          "metadata": {},
          "output_type": "execute_result"
        },
        {
          "data": {
            "image/png": "[encoded data removed]",
            "text/plain": [
              "<Figure size 600x400 with 1 Axes>"
            ]
          },
          "metadata": {},
          "output_type": "display_data"
        }
      ],
      "source": [
        "## checking outliers in sqft\n",
        "sns.distplot(df.sqft)"
      ]
    },
    {
      "cell_type": "code",
      "execution_count": null,
      "metadata": {
        "id": "pRXX33H9El9n",
        "outputId": "184a6e67-0b51-4b2b-da18-7db7c4ae8324"
      },
      "outputs": [
        {
          "data": {
            "text/plain": [
              "<AxesSubplot:xlabel='sqft'>"
            ]
          },
          "execution_count": 8,
          "metadata": {},
          "output_type": "execute_result"
        },
        {
          "data": {
            "image/png": "[encoded data removed]",
            "text/plain": [
              "<Figure size 600x400 with 1 Axes>"
            ]
          },
          "metadata": {},
          "output_type": "display_data"
        }
      ],
      "source": [
        "## outlier visulaization\n",
        "sns.boxplot(x=df.sqft)"
      ]
    },
    {
      "cell_type": "markdown",
      "metadata": {
        "id": "sejmxXp2oC8x"
      },
      "source": [
        "## Using 3 standard deviation rule to detect the outliers."
      ]
    },
    {
      "cell_type": "code",
      "execution_count": null,
      "metadata": {
        "id": "Qj38QplbrvZp",
        "outputId": "74603391-d6f5-4408-8f85-7f7e33888d6f"
      },
      "outputs": [
        {
          "data": {
            "text/plain": [
              "2786.9556759408288"
            ]
          },
          "execution_count": 9,
          "metadata": {},
          "output_type": "execute_result"
        }
      ],
      "source": [
        "upper_limit = df.sqft.mean() + 3*df.sqft.std()\n",
        "upper_limit"
      ]
    },
    {
      "cell_type": "code",
      "execution_count": null,
      "metadata": {
        "id": "9WRZko7yrvZp",
        "outputId": "b16993da-3216-49ba-dcd3-c4d253f10d82"
      },
      "outputs": [
        {
          "data": {
            "text/plain": [
              "289.3706097734573"
            ]
          },
          "execution_count": 10,
          "metadata": {},
          "output_type": "execute_result"
        }
      ],
      "source": [
        "lower_limit = df.sqft.mean() -3*df.sqft.std()\n",
        "lower_limit"
      ]
    },
    {
      "cell_type": "code",
      "execution_count": null,
      "metadata": {
        "id": "Q1vcVzG4rvZq",
        "scrolled": true,
        "outputId": "12a85e9d-2823-4b6e-986c-bb546d107b44"
      },
      "outputs": [
        {
          "data": {
            "text/plain": [
              "20"
            ]
          },
          "execution_count": 13,
          "metadata": {},
          "output_type": "execute_result"
        }
      ],
      "source": [
        "#df.loc[df['sqft'] < lower_limit] ## Less than lower limit\n",
        "len(df.loc[df['sqft'] > upper_limit]) ## More than upper limit"
      ]
    },
    {
      "cell_type": "code",
      "execution_count": null,
      "metadata": {
        "id": "egc-7HZBLr0I",
        "outputId": "213e992d-17ab-466c-dec3-a5488126ec5a"
      },
      "outputs": [
        {
          "data": {
            "text/plain": [
              "3500"
            ]
          },
          "execution_count": 15,
          "metadata": {},
          "output_type": "execute_result"
        }
      ],
      "source": [
        "# Size of dataset\n",
        "df.shape[0] # 3500\n",
        "# size of data which are outliers\n",
        "len(df.loc[df['sqft'] > upper_limit]) # 20\n",
        "# percentage of data outliers\n",
        "20/3500 *100\n",
        "# If outlier percentage is greater than 5% than no treatment."
      ]
    },
    {
      "cell_type": "code",
      "execution_count": null,
      "metadata": {
        "id": "mtStCCxkrvZq"
      },
      "outputs": [],
      "source": [
        "df.loc[df['sqft'] > upper_limit,'sqft']=df['sqft'].median()"
      ]
    },
    {
      "cell_type": "code",
      "execution_count": null,
      "metadata": {
        "collapsed": true,
        "id": "gV3xEKbYrvZr",
        "outputId": "864483de-67b2-4a91-8586-682aa516ad6a"
      },
      "outputs": [
        {
          "data": {
            "text/plain": [
              "<AxesSubplot:xlabel='sqft'>"
            ]
          },
          "execution_count": 17,
          "metadata": {},
          "output_type": "execute_result"
        },
        {
          "data": {
            "image/png": "[encoded data removed]",
            "text/plain": [
              "<Figure size 600x400 with 1 Axes>"
            ]
          },
          "metadata": {},
          "output_type": "display_data"
        }
      ],
      "source": [
        "import seaborn as sns\n",
        "sns.boxplot(x=df.sqft)"
      ]
    },
    {
      "cell_type": "code",
      "execution_count": null,
      "metadata": {
        "id": "s4Fs4LUgEl9w",
        "outputId": "94fdbfff-31c7-4a43-a994-43fb63155dc5"
      },
      "outputs": [
        {
          "data": {
            "text/plain": [
              "<AxesSubplot:xlabel='yearsOld'>"
            ]
          },
          "execution_count": 18,
          "metadata": {},
          "output_type": "execute_result"
        },
        {
          "data": {
            "image/png": "[encoded data removed]",
            "text/plain": [
              "<Figure size 600x400 with 1 Axes>"
            ]
          },
          "metadata": {},
          "output_type": "display_data"
        }
      ],
      "source": [
        "####  Removing outliers from yearsOld\n",
        "sns.boxplot(x=df.yearsOld)"
      ]
    },
    {
      "cell_type": "code",
      "execution_count": null,
      "metadata": {
        "id": "XHWAV7uUoC82",
        "outputId": "f6751e94-a450-4855-e9d1-3f07c6739527"
      },
      "outputs": [
        {
          "data": {
            "text/plain": [
              "<AxesSubplot:xlabel='floor'>"
            ]
          },
          "execution_count": 19,
          "metadata": {},
          "output_type": "execute_result"
        },
        {
          "data": {
            "image/png": "[encoded data removed]",
            "text/plain": [
              "<Figure size 600x400 with 1 Axes>"
            ]
          },
          "metadata": {},
          "output_type": "display_data"
        }
      ],
      "source": [
        "### Removing outliers from floor\n",
        "\n",
        "sns.boxplot(x=df.floor)"
      ]
    },
    {
      "cell_type": "code",
      "execution_count": null,
      "metadata": {
        "id": "XF4takYVoC83",
        "outputId": "edb4487c-5b29-46d1-8bd7-31ffe92eb4f3"
      },
      "outputs": [
        {
          "name": "stderr",
          "output_type": "stream",
          "text": [
            "/Users/shubhangi/opt/anaconda3/lib/python3.8/site-packages/seaborn/distributions.py:2557: FutureWarning: `distplot` is a deprecated function and will be removed in a future version. Please adapt your code to use either `displot` (a figure-level function with similar flexibility) or `histplot` (an axes-level function for histograms).\n",
            "  warnings.warn(msg, FutureWarning)\n"
          ]
        },
        {
          "data": {
            "text/plain": [
              "<AxesSubplot:xlabel='floor', ylabel='Density'>"
            ]
          },
          "execution_count": 13,
          "metadata": {
            "tags": []
          },
          "output_type": "execute_result"
        },
        {
          "data": {
            "image/png": "[encoded data removed]",
            "text/plain": [
              "<Figure size 600x400 with 1 Axes>"
            ]
          },
          "metadata": {
            "tags": []
          },
          "output_type": "display_data"
        }
      ],
      "source": [
        "## checking the distribution\n",
        "sns.distplot(df.floor)"
      ]
    },
    {
      "cell_type": "markdown",
      "metadata": {
        "id": "R-KjAcF0oC84"
      },
      "source": [
        "## IQR:-The interquartile range is a measure of where the “middle fifty” is in a data set. Where a range is a measure of where the beginning and end are in a set, an interquartile range is a measure of where the bulk of the values lie."
      ]
    },
    {
      "cell_type": "code",
      "execution_count": null,
      "metadata": {
        "id": "98weWwk5oC84",
        "outputId": "37f55d2f-6f46-4128-a406-1153ec14978c"
      },
      "outputs": [
        {
          "data": {
            "text/plain": [
              "3.0"
            ]
          },
          "execution_count": 20,
          "metadata": {},
          "output_type": "execute_result"
        }
      ],
      "source": [
        "# Interquartile range (IQR) \n",
        "from scipy import stats\n",
        "\n",
        "IQR = stats.iqr(df.floor, interpolation = 'midpoint') \n",
        "\n",
        "IQR"
      ]
    },
    {
      "cell_type": "code",
      "execution_count": null,
      "metadata": {
        "id": "AnLvUPUCoC85"
      },
      "outputs": [],
      "source": [
        "## min and max limit calculation\n",
        "# First quartile (Q1) \n",
        "Q1 = df.floor.quantile(0.25)\n",
        "# Third quartile (Q3) \n",
        "Q3 =df.floor.quantile(0.75)\n",
        "##getting the limits\n",
        "min_limit=Q1 - 1.5*IQR\n",
        "\n",
        "max_limit=Q3 +1.5*IQR"
      ]
    },
    {
      "cell_type": "code",
      "execution_count": null,
      "metadata": {
        "id": "2_D-IPpvoC86"
      },
      "outputs": [],
      "source": [
        "min_limit"
      ]
    },
    {
      "cell_type": "code",
      "execution_count": null,
      "metadata": {
        "collapsed": true,
        "id": "qmROAuWEoC86",
        "outputId": "94c2a90f-2510-45b8-f553-1df3a9fd0678"
      },
      "outputs": [
        {
          "data": {
            "text/html": [
              "<div>\n",
              "<style scoped>\n",
              "    .dataframe tbody tr th:only-of-type {\n",
              "        vertical-align: middle;\n",
              "    }\n",
              "\n",
              "    .dataframe tbody tr th {\n",
              "        vertical-align: top;\n",
              "    }\n",
              "\n",
              "    .dataframe thead th {\n",
              "        text-align: right;\n",
              "    }\n",
              "</style>\n",
              "<table border=\"1\" class=\"dataframe\">\n",
              "  <thead>\n",
              "    <tr style=\"text-align: right;\">\n",
              "      <th></th>\n",
              "      <th>place</th>\n",
              "      <th>built</th>\n",
              "      <th>sqft</th>\n",
              "      <th>sale</th>\n",
              "      <th>yearsOld</th>\n",
              "      <th>floor</th>\n",
              "      <th>totalFloor</th>\n",
              "      <th>bhk</th>\n",
              "      <th>price</th>\n",
              "    </tr>\n",
              "  </thead>\n",
              "  <tbody>\n",
              "    <tr>\n",
              "      <th>17</th>\n",
              "      <td>Subramanyapura</td>\n",
              "      <td>Super built-up  Area</td>\n",
              "      <td>1784</td>\n",
              "      <td>Resale</td>\n",
              "      <td>5</td>\n",
              "      <td>18</td>\n",
              "      <td>18</td>\n",
              "      <td>18</td>\n",
              "      <td>7900000</td>\n",
              "    </tr>\n",
              "    <tr>\n",
              "      <th>38</th>\n",
              "      <td>Subramanyapura</td>\n",
              "      <td>Super built-up  Area</td>\n",
              "      <td>1784</td>\n",
              "      <td>Resale</td>\n",
              "      <td>5</td>\n",
              "      <td>18</td>\n",
              "      <td>18</td>\n",
              "      <td>18</td>\n",
              "      <td>7900000</td>\n",
              "    </tr>\n",
              "    <tr>\n",
              "      <th>46</th>\n",
              "      <td>Subramanyapura</td>\n",
              "      <td>Super built-up  Area</td>\n",
              "      <td>1784</td>\n",
              "      <td>Resale</td>\n",
              "      <td>5</td>\n",
              "      <td>18</td>\n",
              "      <td>18</td>\n",
              "      <td>18</td>\n",
              "      <td>7900000</td>\n",
              "    </tr>\n",
              "    <tr>\n",
              "      <th>51</th>\n",
              "      <td>Subramanyapura</td>\n",
              "      <td>Super built-up  Area</td>\n",
              "      <td>1784</td>\n",
              "      <td>Resale</td>\n",
              "      <td>5</td>\n",
              "      <td>18</td>\n",
              "      <td>18</td>\n",
              "      <td>18</td>\n",
              "      <td>7900000</td>\n",
              "    </tr>\n",
              "    <tr>\n",
              "      <th>52</th>\n",
              "      <td>Subramanyapura</td>\n",
              "      <td>Super built-up  Area</td>\n",
              "      <td>1784</td>\n",
              "      <td>Resale</td>\n",
              "      <td>5</td>\n",
              "      <td>18</td>\n",
              "      <td>18</td>\n",
              "      <td>18</td>\n",
              "      <td>7900000</td>\n",
              "    </tr>\n",
              "    <tr>\n",
              "      <th>...</th>\n",
              "      <td>...</td>\n",
              "      <td>...</td>\n",
              "      <td>...</td>\n",
              "      <td>...</td>\n",
              "      <td>...</td>\n",
              "      <td>...</td>\n",
              "      <td>...</td>\n",
              "      <td>...</td>\n",
              "      <td>...</td>\n",
              "    </tr>\n",
              "    <tr>\n",
              "      <th>3429</th>\n",
              "      <td>Subramanyapura</td>\n",
              "      <td>Super built-up  Area</td>\n",
              "      <td>1784</td>\n",
              "      <td>Resale</td>\n",
              "      <td>5</td>\n",
              "      <td>18</td>\n",
              "      <td>18</td>\n",
              "      <td>18</td>\n",
              "      <td>7900000</td>\n",
              "    </tr>\n",
              "    <tr>\n",
              "      <th>3430</th>\n",
              "      <td>Subramanyapura</td>\n",
              "      <td>Super built-up  Area</td>\n",
              "      <td>1784</td>\n",
              "      <td>Resale</td>\n",
              "      <td>5</td>\n",
              "      <td>18</td>\n",
              "      <td>18</td>\n",
              "      <td>18</td>\n",
              "      <td>7900000</td>\n",
              "    </tr>\n",
              "    <tr>\n",
              "      <th>3438</th>\n",
              "      <td>Subramanyapura</td>\n",
              "      <td>Super built-up  Area</td>\n",
              "      <td>1784</td>\n",
              "      <td>Resale</td>\n",
              "      <td>5</td>\n",
              "      <td>18</td>\n",
              "      <td>18</td>\n",
              "      <td>18</td>\n",
              "      <td>7900000</td>\n",
              "    </tr>\n",
              "    <tr>\n",
              "      <th>3439</th>\n",
              "      <td>Subramanyapura</td>\n",
              "      <td>Super built-up  Area</td>\n",
              "      <td>1784</td>\n",
              "      <td>Resale</td>\n",
              "      <td>5</td>\n",
              "      <td>18</td>\n",
              "      <td>18</td>\n",
              "      <td>18</td>\n",
              "      <td>7900000</td>\n",
              "    </tr>\n",
              "    <tr>\n",
              "      <th>3452</th>\n",
              "      <td>Subramanyapura</td>\n",
              "      <td>Super built-up  Area</td>\n",
              "      <td>1784</td>\n",
              "      <td>Resale</td>\n",
              "      <td>5</td>\n",
              "      <td>18</td>\n",
              "      <td>18</td>\n",
              "      <td>18</td>\n",
              "      <td>7900000</td>\n",
              "    </tr>\n",
              "  </tbody>\n",
              "</table>\n",
              "<p>349 rows × 9 columns</p>\n",
              "</div>"
            ],
            "text/plain": [
              "               place                 built  sqft    sale  yearsOld  floor  \\\n",
              "17    Subramanyapura  Super built-up  Area  1784  Resale         5     18   \n",
              "38    Subramanyapura  Super built-up  Area  1784  Resale         5     18   \n",
              "46    Subramanyapura  Super built-up  Area  1784  Resale         5     18   \n",
              "51    Subramanyapura  Super built-up  Area  1784  Resale         5     18   \n",
              "52    Subramanyapura  Super built-up  Area  1784  Resale         5     18   \n",
              "...              ...                   ...   ...     ...       ...    ...   \n",
              "3429  Subramanyapura  Super built-up  Area  1784  Resale         5     18   \n",
              "3430  Subramanyapura  Super built-up  Area  1784  Resale         5     18   \n",
              "3438  Subramanyapura  Super built-up  Area  1784  Resale         5     18   \n",
              "3439  Subramanyapura  Super built-up  Area  1784  Resale         5     18   \n",
              "3452  Subramanyapura  Super built-up  Area  1784  Resale         5     18   \n",
              "\n",
              "      totalFloor  bhk    price  \n",
              "17            18   18  7900000  \n",
              "38            18   18  7900000  \n",
              "46            18   18  7900000  \n",
              "51            18   18  7900000  \n",
              "52            18   18  7900000  \n",
              "...          ...  ...      ...  \n",
              "3429          18   18  7900000  \n",
              "3430          18   18  7900000  \n",
              "3438          18   18  7900000  \n",
              "3439          18   18  7900000  \n",
              "3452          18   18  7900000  \n",
              "\n",
              "[349 rows x 9 columns]"
            ]
          },
          "execution_count": 24,
          "metadata": {},
          "output_type": "execute_result"
        }
      ],
      "source": [
        "## filetring the data\n",
        "#df.loc[df['floor'] < min_limit]\n",
        "df.loc[df['floor'] > max_limit]"
      ]
    },
    {
      "cell_type": "code",
      "execution_count": null,
      "metadata": {
        "id": "WbNvHCmyrvZt"
      },
      "outputs": [],
      "source": [
        "import numpy as np"
      ]
    },
    {
      "cell_type": "code",
      "execution_count": null,
      "metadata": {
        "id": "jE6aVUnjoC86"
      },
      "outputs": [],
      "source": [
        "## imputing the outliers as the count is high\n",
        "df.loc[df['floor'] > max_limit,'floor']=np.median(df.floor)"
      ]
    },
    {
      "cell_type": "code",
      "execution_count": null,
      "metadata": {
        "id": "VsbCA24SoC87"
      },
      "outputs": [],
      "source": [
        "df.floor.value_counts()"
      ]
    },
    {
      "cell_type": "code",
      "execution_count": null,
      "metadata": {
        "id": "np4ukohboC87",
        "outputId": "8fec236d-0974-4d64-ab2b-434cc142b4bd"
      },
      "outputs": [
        {
          "data": {
            "text/html": [
              "<div>\n",
              "<style scoped>\n",
              "    .dataframe tbody tr th:only-of-type {\n",
              "        vertical-align: middle;\n",
              "    }\n",
              "\n",
              "    .dataframe tbody tr th {\n",
              "        vertical-align: top;\n",
              "    }\n",
              "\n",
              "    .dataframe thead th {\n",
              "        text-align: right;\n",
              "    }\n",
              "</style>\n",
              "<table border=\"1\" class=\"dataframe\">\n",
              "  <thead>\n",
              "    <tr style=\"text-align: right;\">\n",
              "      <th></th>\n",
              "      <th>place</th>\n",
              "      <th>built</th>\n",
              "      <th>sqft</th>\n",
              "      <th>sale</th>\n",
              "      <th>yearsOld</th>\n",
              "      <th>floor</th>\n",
              "      <th>totalFloor</th>\n",
              "      <th>bhk</th>\n",
              "      <th>price</th>\n",
              "    </tr>\n",
              "  </thead>\n",
              "  <tbody>\n",
              "  </tbody>\n",
              "</table>\n",
              "</div>"
            ],
            "text/plain": [
              "Empty DataFrame\n",
              "Columns: [place, built, sqft, sale, yearsOld, floor, totalFloor, bhk, price]\n",
              "Index: []"
            ]
          },
          "execution_count": 28,
          "metadata": {},
          "output_type": "execute_result"
        }
      ],
      "source": [
        "df.loc[df['floor'] > max_limit]"
      ]
    },
    {
      "cell_type": "code",
      "execution_count": null,
      "metadata": {
        "id": "40cHS8bzoC87"
      },
      "outputs": [],
      "source": [
        "\n",
        "sns.boxplot(x=df.yearsOld)"
      ]
    },
    {
      "cell_type": "code",
      "execution_count": null,
      "metadata": {
        "id": "4Y3mwEcGoC88"
      },
      "outputs": [],
      "source": [
        "sns.distplot(df.floor)"
      ]
    },
    {
      "cell_type": "code",
      "execution_count": null,
      "metadata": {
        "collapsed": true,
        "id": "PuWNZ6pBoC88",
        "outputId": "d1190fba-753b-4635-ca93-71864b022be9"
      },
      "outputs": [
        {
          "data": {
            "text/plain": [
              "<AxesSubplot:xlabel='floor'>"
            ]
          },
          "execution_count": 29,
          "metadata": {},
          "output_type": "execute_result"
        },
        {
          "data": {
            "image/png": "[encoded data removed]",
            "text/plain": [
              "<Figure size 600x400 with 1 Axes>"
            ]
          },
          "metadata": {},
          "output_type": "display_data"
        }
      ],
      "source": [
        "sns.boxplot(x=df.floor)"
      ]
    },
    {
      "cell_type": "code",
      "execution_count": null,
      "metadata": {
        "id": "yMx4cEpMoC9A"
      },
      "outputs": [],
      "source": [
        "## Removing outliers from totalFloor\n",
        "sns.distplot(df.totalFloor)"
      ]
    },
    {
      "cell_type": "code",
      "execution_count": null,
      "metadata": {
        "id": "2AmwmSASEl93"
      },
      "outputs": [],
      "source": [
        "sns.boxplot(df.totalFloor)"
      ]
    },
    {
      "cell_type": "code",
      "execution_count": null,
      "metadata": {
        "id": "_8QN_cjwEl-X"
      },
      "outputs": [],
      "source": [
        "## using IQR to remove the outliers\n",
        "IQR = stats.iqr(df.totalFloor, interpolation = 'midpoint') \n",
        "\n",
        "IQR"
      ]
    },
    {
      "cell_type": "code",
      "execution_count": null,
      "metadata": {
        "id": "EnYAQoFCoC9C"
      },
      "outputs": [],
      "source": [
        "## min and max limit calculation\n",
        "# First quartile (Q1) \n",
        "Q1 = df.totalFloor.quantile(0.25)\n",
        "# Third quartile (Q3) \n",
        "Q3 =df.totalFloor.quantile(0.75)\n",
        "##getting the limits\n",
        "min_limit=Q1 - 1.5*IQR\n",
        "\n",
        "max_limit=Q3 +1.5*IQR"
      ]
    },
    {
      "cell_type": "code",
      "execution_count": null,
      "metadata": {
        "id": "1Oq5bz9BoC9D"
      },
      "outputs": [],
      "source": [
        "max_limit"
      ]
    },
    {
      "cell_type": "code",
      "execution_count": null,
      "metadata": {
        "id": "Sp785jkToC9D"
      },
      "outputs": [],
      "source": [
        "##df.loc[df['totalFloor'] < min_limit]\n",
        "df.loc[df['totalFloor'] > max_limit]"
      ]
    },
    {
      "cell_type": "code",
      "execution_count": null,
      "metadata": {
        "id": "1RSdAFe9oC9E"
      },
      "outputs": [],
      "source": [
        "## imputing the outliers as the count is high\n",
        "df.loc[df['totalFloor'] > max_limit,'totalFloor']=np.median(df.totalFloor)"
      ]
    },
    {
      "cell_type": "code",
      "execution_count": null,
      "metadata": {
        "id": "rVWTZwSyoC9F"
      },
      "outputs": [],
      "source": [
        "sns.boxplot(df.totalFloor)"
      ]
    },
    {
      "cell_type": "code",
      "execution_count": null,
      "metadata": {
        "id": "WAnP8rstoC9G"
      },
      "outputs": [],
      "source": [
        "### Checking outliers from bhk\n",
        "sns.distplot(df.bhk)"
      ]
    },
    {
      "cell_type": "code",
      "execution_count": null,
      "metadata": {
        "id": "YHzN98C3oC9H"
      },
      "outputs": [],
      "source": [
        "sns.boxplot(df.bhk)"
      ]
    },
    {
      "cell_type": "code",
      "execution_count": null,
      "metadata": {
        "id": "Ycz0sKVloC9H"
      },
      "outputs": [],
      "source": [
        "## using IQR to remove the outliers\n",
        "IQR = stats.iqr(df.bhk, interpolation = 'midpoint') \n",
        "\n",
        "IQR"
      ]
    },
    {
      "cell_type": "code",
      "execution_count": null,
      "metadata": {
        "id": "6m9V_k7roC9I"
      },
      "outputs": [],
      "source": [
        "## min and max limit calculation\n",
        "# First quartile (Q1) \n",
        "Q1 = df.bhk.quantile(0.25)\n",
        "# Third quartile (Q3) \n",
        "Q3 =df.bhk.quantile(0.75)\n",
        "##getting the limits\n",
        "min_limit=Q1 - 1.5*IQR\n",
        "\n",
        "max_limit=Q3 +1.5*IQR"
      ]
    },
    {
      "cell_type": "code",
      "execution_count": null,
      "metadata": {
        "id": "7_hBwEl7oC9I"
      },
      "outputs": [],
      "source": [
        "##df.loc[df['bhk'] < min_limit]\n",
        "df.loc[df['bhk'] > max_limit]"
      ]
    },
    {
      "cell_type": "code",
      "execution_count": null,
      "metadata": {
        "id": "1zPao1eroC9I"
      },
      "outputs": [],
      "source": [
        "## imputing the outliers as the count is high\n",
        "df.loc[df['bhk'] > max_limit,'bhk']=np.median(df.bhk)"
      ]
    }
  ],
  "metadata": {
    "colab": {
      "provenance": []
    },
    "kernelspec": {
      "display_name": "Python 3 (ipykernel)",
      "language": "python",
      "name": "python3"
    },
    "language_info": {
      "codemirror_mode": {
        "name": "ipython",
        "version": 3
      },
      "file_extension": ".py",
      "mimetype": "text/x-python",
      "name": "python",
      "nbconvert_exporter": "python",
      "pygments_lexer": "ipython3",
      "version": "3.9.7"
    }
  },
  "nbformat": 4,
  "nbformat_minor": 0
}